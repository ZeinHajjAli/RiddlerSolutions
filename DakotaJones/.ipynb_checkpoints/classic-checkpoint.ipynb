{
 "cells": [
  {
   "cell_type": "markdown",
   "metadata": {},
   "source": [
    "# Can You Help Dakota Jones Raid The Lost Arc? - Riddler Classic Solution\n",
    "\n",
    "The [Riddler Classic](https://fivethirtyeight.com/features/can-you-help-dakota-jones-raid-the-lost-arc/) challenge for the week of September 13, 2019 is as follows:\n",
    "\n",
    "> The challenge is to find the longest string of letters in which (1) every pair of consecutive letters is a two-letter state or territory abbreviation, and (2) no state abbreviation occurs more than once. For example, Guam, Utah and Texas can be combined into the valid four-letter string GUTX. Another valid string is ALAK (Alabama, Louisiana and Alaska), while ALAL (Alabama, Louisiana and Alabama) is invalid because it includes the same state, Alabama, twice.\n",
    "\n",
    "My first thought was to write a python script that iterates through all the possible combinations to find the one with the most non-repeating states. Realistically it will take a very long time since it's and exponential function with 50 choices in the first spot, but I will try running it first on my machine and, when I give up inevitably, on a lab machine at Carleton University while I study all day and will hopefully get an answer by the end of the day. Once the program finishes its run I will update this page with the calculated result including both the string and the number of states that it concatenates.\n",
    "\n",
    "Meanwhile, here's a breakdown of the python script:\n",
    "\n",
    "## Code\n",
    "\n",
    "I first needed to write out the state codes in an array."
   ]
  },
  {
   "cell_type": "markdown",
   "metadata": {},
   "source": [
    "I initialized two global variable which will be compared to each completed string and edited to hold the maximum values."
   ]
  },
  {
   "cell_type": "code",
   "execution_count": null,
   "metadata": {},
   "outputs": [],
   "source": [
    "states = ['AL','AK','AS','AZ','AR','CA','CO','CT','DE','DC','FM','FL','GA','GU','HI','ID','IL', 'IN','IA','KS','KY','LA','ME','MH','MD','MA','MI','MN','MS','MO','MT','NE','NV','NH','NJ','NM','NY','NC','ND','MP','OH','OK','OR','PW','PA','PR','RI','SC','SD','TN','TX','UT','VT','VI','VA','WA','WV','WI','WY']"
   ]
  },
  {
   "cell_type": "code",
   "execution_count": null,
   "metadata": {},
   "outputs": [],
   "source": [
    "maxLength = 0\n",
    "maxRoute = []"
   ]
  },
  {
   "cell_type": "markdown",
   "metadata": {},
   "source": [
    "I then start by defining a main function that will run the rest of the functions and output the results."
   ]
  },
  {
   "cell_type": "code",
   "execution_count": null,
   "metadata": {},
   "outputs": [],
   "source": [
    "def main():\n",
    "    unusedStates = states.copy()\n",
    "    route = []\n",
    "    everyOption(route, unusedStates, unusedStates)\n",
    "    print(\"The maximum states that can be done in this way are {}\\n\".format(maxLength))\n",
    "    print(stringBuilder(maxRoute))"
   ]
  },
  {
   "cell_type": "markdown",
   "metadata": {},
   "source": [
    "I then define a function that checks every possible next state and builds new arrays to check the lengths of."
   ]
  },
  {
   "cell_type": "code",
   "execution_count": null,
   "metadata": {},
   "outputs": [],
   "source": [
    "def everyOption(route, unusedStates, nextStates):\n",
    "    newUnusedStates = []\n",
    "    newRoute = []\n",
    "    print(route)\n",
    "    for nextState in nextStates:\n",
    "        newUnusedStates = unusedStates.copy()\n",
    "        newUnusedStates.remove(nextState)\n",
    "        newRoute = route.copy()\n",
    "        newRoute.append(nextState)\n",
    "        routeBuilder(newRoute, newUnusedStates)"
   ]
  },
  {
   "cell_type": "markdown",
   "metadata": {},
   "source": [
    "Then I wrote a function that adds on every possible state code and checks with the everyOption function. This function also compares the routes when theres no possible code that comes after the last to the global maxes."
   ]
  },
  {
   "cell_type": "code",
   "execution_count": null,
   "metadata": {},
   "outputs": [],
   "source": [
    "def routeBuilder(route, unusedStates):\n",
    "    global maxLength\n",
    "    global maxRoute\n",
    "    last = route[-1]\n",
    "    lastLetter = last[-1]\n",
    "    nextStates = []\n",
    "    for state in unusedStates:\n",
    "        if state.startswith(lastLetter):\n",
    "            nextStates.append(state)\n",
    "            if len(nextStates) > 0:\n",
    "                everyOption(route, unusedStates, nextStates)\n",
    "            else:\n",
    "                if len(route) > maxLength:\n",
    "                    maxLength = length\n",
    "                    maxRoute = route"
   ]
  },
  {
   "cell_type": "markdown",
   "metadata": {},
   "source": [
    "The main function runs through everyOption with the inital 'unusedStates' and 'nextStates' being all the state codes and the intial 'route' being empty. I built stringBuilder function to output the route in the format they asked for."
   ]
  },
  {
   "cell_type": "code",
   "execution_count": null,
   "metadata": {},
   "outputs": [],
   "source": [
    "def stringBuilder(codeArray):\n",
    "    firstCode = codeArray[0]\n",
    "    outputString = firstCode[0]\n",
    "    for code in codeArray:\n",
    "        outputString = outputString + code[-1]\n",
    "    return outputString"
   ]
  },
  {
   "cell_type": "markdown",
   "metadata": {},
   "source": [
    "Then at the end, I just ran the main function and waited to see what happens."
   ]
  },
  {
   "cell_type": "code",
   "execution_count": null,
   "metadata": {},
   "outputs": [],
   "source": [
    "main()"
   ]
  }
 ],
 "metadata": {
  "kernelspec": {
   "display_name": "Python 3",
   "language": "python",
   "name": "python3"
  },
  "language_info": {
   "codemirror_mode": {
    "name": "ipython",
    "version": 3
   },
   "file_extension": ".py",
   "mimetype": "text/x-python",
   "name": "python",
   "nbconvert_exporter": "python",
   "pygments_lexer": "ipython3",
   "version": "3.7.3"
  }
 },
 "nbformat": 4,
 "nbformat_minor": 2
}
